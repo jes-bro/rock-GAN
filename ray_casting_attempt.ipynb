{
 "cells": [
  {
   "cell_type": "code",
   "execution_count": 54,
   "metadata": {},
   "outputs": [
    {
     "name": "stdout",
     "output_type": "stream",
     "text": [
      "[[17.1  3.  34. ]\n",
      " [ 0.   0.  34. ]]\n",
      "[[ 0  0 -1]\n",
      " [ 0  0 -1]]\n",
      "[2016 2478]\n",
      "[[17.1769352   3.7265532  10.57978535]\n",
      " [16.50645447  2.66030216 10.7142601 ]\n",
      " [17.6311245   2.87585616  9.9950552 ]]\n",
      "[[-0.98197579 -0.05329224 19.2277317 ]\n",
      " [ 0.13217457 -0.37833396 18.66819382]\n",
      " [-0.11270414  0.35742801 19.25520897]]\n",
      "bruh_test_2:(array([[0.00000000e+00, 0.00000000e+00, 7.10542736e-15],\n",
      "       [0.00000000e+00, 0.00000000e+00, 1.89719081e+01],\n",
      "       [1.71000000e+01, 3.00000000e+00, 7.10542736e-15],\n",
      "       [1.71000000e+01, 3.00000000e+00, 1.04056036e+01]]), array([1, 1, 0, 0]), array([ 824, 2478,  797, 2016]))\n",
      "[[1.71000000e+01 3.00000000e+00 7.10542736e-15]\n",
      " [1.71000000e+01 3.00000000e+00 1.04056036e+01]]\n",
      "[7.10542736e-15 1.04056036e+01]\n",
      "10.40560357340076\n",
      "[[0.00000000e+00 0.00000000e+00 7.10542736e-15]\n",
      " [0.00000000e+00 0.00000000e+00 1.89719081e+01]]\n",
      "[7.10542736e-15 1.89719081e+01]\n",
      "18.971908147654403\n"
     ]
    }
   ],
   "source": [
    "import numpy as np\n",
    "import trimesh\n",
    "\n",
    "mesh = trimesh.load(\"sample_meshes/Sample_Crimp_8.stl\")\n",
    "\n",
    "# print(mesh.triangles[1])\n",
    "\n",
    "intersection_mesh = trimesh.ray.ray_triangle.RayMeshIntersector(mesh)\n",
    "\n",
    "ray_origin = np.array([[17.1, 3, 34], [0, 0, 34]])\n",
    "ray_dir = np.array([[0, 0, -1], [0, 0, -1]])\n",
    "\n",
    "print(ray_origin)\n",
    "print(ray_dir)\n",
    "\n",
    "bruh_test = intersection_mesh.intersects_first(ray_origin, ray_dir)\n",
    "print(bruh_test)\n",
    "\n",
    "print(mesh.triangles[bruh_test[0]])\n",
    "print(mesh.triangles[bruh_test[1]])\n",
    "\n",
    "bruh_test_2 = intersection_mesh.intersects_location(ray_origin, ray_dir)\n",
    "print(f\"bruh_test_2:{bruh_test_2}\")\n",
    "\n",
    "locations = bruh_test_2[0]\n",
    "ray_indices = bruh_test_2[1]\n",
    "\n",
    "for i in range(2):\n",
    "    dawg = ray_indices == i\n",
    "    masked_locations = locations[dawg]\n",
    "    print(masked_locations)\n",
    "    masked_locations = masked_locations[:,2]\n",
    "    print(masked_locations)\n",
    "    print(np.max(masked_locations))"
   ]
  },
  {
   "cell_type": "code",
   "execution_count": null,
   "metadata": {},
   "outputs": [
    {
     "name": "stderr",
     "output_type": "stream",
     "text": [
      "/home/gabez/miniconda3/envs/tangen/lib/python3.11/site-packages/trimesh/ray/ray_triangle.py:390: RuntimeWarning: invalid value encountered in multiply\n",
      "  on_a = (ray_directions * t_a) + ray_origins\n",
      "/home/gabez/miniconda3/envs/tangen/lib/python3.11/site-packages/trimesh/ray/ray_triangle.py:390: RuntimeWarning: invalid value encountered in add\n",
      "  on_a = (ray_directions * t_a) + ray_origins\n",
      "/home/gabez/miniconda3/envs/tangen/lib/python3.11/site-packages/trimesh/ray/ray_triangle.py:391: RuntimeWarning: invalid value encountered in multiply\n",
      "  on_b = (ray_directions * t_b) + ray_origins\n",
      "/home/gabez/miniconda3/envs/tangen/lib/python3.11/site-packages/trimesh/ray/ray_triangle.py:391: RuntimeWarning: invalid value encountered in add\n",
      "  on_b = (ray_directions * t_b) + ray_origins\n"
     ]
    },
    {
     "ename": "RTreeError",
     "evalue": "Coordinates must not have minimums more than maximums",
     "output_type": "error",
     "traceback": [
      "\u001b[0;31m---------------------------------------------------------------------------\u001b[0m",
      "\u001b[0;31mRTreeError\u001b[0m                                Traceback (most recent call last)",
      "Cell \u001b[0;32mIn[55], line 15\u001b[0m\n\u001b[1;32m     12\u001b[0m mesh \u001b[38;5;241m=\u001b[39m trimesh\u001b[38;5;241m.\u001b[39mload(\u001b[38;5;124m\"\u001b[39m\u001b[38;5;124msample_meshes/Sample_Crimp_8.stl\u001b[39m\u001b[38;5;124m\"\u001b[39m)\n\u001b[1;32m     13\u001b[0m intersection_mesh \u001b[38;5;241m=\u001b[39m trimesh\u001b[38;5;241m.\u001b[39mray\u001b[38;5;241m.\u001b[39mray_triangle\u001b[38;5;241m.\u001b[39mRayMeshIntersector(mesh)\n\u001b[0;32m---> 15\u001b[0m intersections \u001b[38;5;241m=\u001b[39m \u001b[43mintersection_mesh\u001b[49m\u001b[38;5;241;43m.\u001b[39;49m\u001b[43mintersects_location\u001b[49m\u001b[43m(\u001b[49m\u001b[43mnp\u001b[49m\u001b[38;5;241;43m.\u001b[39;49m\u001b[43marray\u001b[49m\u001b[43m(\u001b[49m\u001b[43mray_origins\u001b[49m\u001b[43m)\u001b[49m\u001b[43m,\u001b[49m\u001b[43m \u001b[49m\u001b[43mnp\u001b[49m\u001b[38;5;241;43m.\u001b[39;49m\u001b[43marray\u001b[49m\u001b[43m(\u001b[49m\u001b[43mray_directions\u001b[49m\u001b[43m)\u001b[49m\u001b[43m)\u001b[49m\n\u001b[1;32m     17\u001b[0m locations \u001b[38;5;241m=\u001b[39m intersections[\u001b[38;5;241m0\u001b[39m]\n\u001b[1;32m     18\u001b[0m ray_indices \u001b[38;5;241m=\u001b[39m intersections[\u001b[38;5;241m1\u001b[39m]\n",
      "File \u001b[0;32m~/miniconda3/envs/tangen/lib/python3.11/site-packages/trimesh/ray/ray_triangle.py:93\u001b[0m, in \u001b[0;36mRayMeshIntersector.intersects_location\u001b[0;34m(self, ray_origins, ray_directions, **kwargs)\u001b[0m\n\u001b[1;32m     70\u001b[0m \u001b[38;5;28;01mdef\u001b[39;00m \u001b[38;5;21mintersects_location\u001b[39m(\u001b[38;5;28mself\u001b[39m, ray_origins, ray_directions, \u001b[38;5;241m*\u001b[39m\u001b[38;5;241m*\u001b[39mkwargs):\n\u001b[1;32m     71\u001b[0m \u001b[38;5;250m    \u001b[39m\u001b[38;5;124;03m\"\"\"\u001b[39;00m\n\u001b[1;32m     72\u001b[0m \u001b[38;5;124;03m    Return unique cartesian locations where rays hit the mesh.\u001b[39;00m\n\u001b[1;32m     73\u001b[0m \u001b[38;5;124;03m    If you are counting the number of hits a ray had, this method\u001b[39;00m\n\u001b[0;32m   (...)\u001b[0m\n\u001b[1;32m     91\u001b[0m \u001b[38;5;124;03m      Array of triangle (face) indexes\u001b[39;00m\n\u001b[1;32m     92\u001b[0m \u001b[38;5;124;03m    \"\"\"\u001b[39;00m\n\u001b[0;32m---> 93\u001b[0m     (index_tri, index_ray, locations) \u001b[38;5;241m=\u001b[39m \u001b[38;5;28;43mself\u001b[39;49m\u001b[38;5;241;43m.\u001b[39;49m\u001b[43mintersects_id\u001b[49m\u001b[43m(\u001b[49m\n\u001b[1;32m     94\u001b[0m \u001b[43m        \u001b[49m\u001b[43mray_origins\u001b[49m\u001b[38;5;241;43m=\u001b[39;49m\u001b[43mray_origins\u001b[49m\u001b[43m,\u001b[49m\n\u001b[1;32m     95\u001b[0m \u001b[43m        \u001b[49m\u001b[43mray_directions\u001b[49m\u001b[38;5;241;43m=\u001b[39;49m\u001b[43mray_directions\u001b[49m\u001b[43m,\u001b[49m\n\u001b[1;32m     96\u001b[0m \u001b[43m        \u001b[49m\u001b[43mreturn_locations\u001b[49m\u001b[38;5;241;43m=\u001b[39;49m\u001b[38;5;28;43;01mTrue\u001b[39;49;00m\u001b[43m,\u001b[49m\n\u001b[1;32m     97\u001b[0m \u001b[43m        \u001b[49m\u001b[38;5;241;43m*\u001b[39;49m\u001b[38;5;241;43m*\u001b[39;49m\u001b[43mkwargs\u001b[49m\u001b[43m,\u001b[49m\n\u001b[1;32m     98\u001b[0m \u001b[43m    \u001b[49m\u001b[43m)\u001b[49m\n\u001b[1;32m     99\u001b[0m     \u001b[38;5;28;01mreturn\u001b[39;00m locations, index_ray, index_tri\n",
      "File \u001b[0;32m~/miniconda3/envs/tangen/lib/python3.11/site-packages/trimesh/ray/ray_triangle.py:55\u001b[0m, in \u001b[0;36mRayMeshIntersector.intersects_id\u001b[0;34m(self, ray_origins, ray_directions, return_locations, multiple_hits, **kwargs)\u001b[0m\n\u001b[1;32m     23\u001b[0m \u001b[38;5;28;01mdef\u001b[39;00m \u001b[38;5;21mintersects_id\u001b[39m(\n\u001b[1;32m     24\u001b[0m     \u001b[38;5;28mself\u001b[39m,\n\u001b[1;32m     25\u001b[0m     ray_origins,\n\u001b[0;32m   (...)\u001b[0m\n\u001b[1;32m     29\u001b[0m     \u001b[38;5;241m*\u001b[39m\u001b[38;5;241m*\u001b[39mkwargs,\n\u001b[1;32m     30\u001b[0m ):\n\u001b[1;32m     31\u001b[0m \u001b[38;5;250m    \u001b[39m\u001b[38;5;124;03m\"\"\"\u001b[39;00m\n\u001b[1;32m     32\u001b[0m \u001b[38;5;124;03m    Find the intersections between the current mesh and an\u001b[39;00m\n\u001b[1;32m     33\u001b[0m \u001b[38;5;124;03m    array of rays.\u001b[39;00m\n\u001b[0;32m   (...)\u001b[0m\n\u001b[1;32m     53\u001b[0m \u001b[38;5;124;03m      [optional] Position of intersection in space\u001b[39;00m\n\u001b[1;32m     54\u001b[0m \u001b[38;5;124;03m    \"\"\"\u001b[39;00m\n\u001b[0;32m---> 55\u001b[0m     (index_tri, index_ray, locations) \u001b[38;5;241m=\u001b[39m \u001b[43mray_triangle_id\u001b[49m\u001b[43m(\u001b[49m\n\u001b[1;32m     56\u001b[0m \u001b[43m        \u001b[49m\u001b[43mtriangles\u001b[49m\u001b[38;5;241;43m=\u001b[39;49m\u001b[38;5;28;43mself\u001b[39;49m\u001b[38;5;241;43m.\u001b[39;49m\u001b[43mmesh\u001b[49m\u001b[38;5;241;43m.\u001b[39;49m\u001b[43mtriangles\u001b[49m\u001b[43m,\u001b[49m\n\u001b[1;32m     57\u001b[0m \u001b[43m        \u001b[49m\u001b[43mray_origins\u001b[49m\u001b[38;5;241;43m=\u001b[39;49m\u001b[43mray_origins\u001b[49m\u001b[43m,\u001b[49m\n\u001b[1;32m     58\u001b[0m \u001b[43m        \u001b[49m\u001b[43mray_directions\u001b[49m\u001b[38;5;241;43m=\u001b[39;49m\u001b[43mray_directions\u001b[49m\u001b[43m,\u001b[49m\n\u001b[1;32m     59\u001b[0m \u001b[43m        \u001b[49m\u001b[43mtree\u001b[49m\u001b[38;5;241;43m=\u001b[39;49m\u001b[38;5;28;43mself\u001b[39;49m\u001b[38;5;241;43m.\u001b[39;49m\u001b[43mmesh\u001b[49m\u001b[38;5;241;43m.\u001b[39;49m\u001b[43mtriangles_tree\u001b[49m\u001b[43m,\u001b[49m\n\u001b[1;32m     60\u001b[0m \u001b[43m        \u001b[49m\u001b[43mmultiple_hits\u001b[49m\u001b[38;5;241;43m=\u001b[39;49m\u001b[43mmultiple_hits\u001b[49m\u001b[43m,\u001b[49m\n\u001b[1;32m     61\u001b[0m \u001b[43m        \u001b[49m\u001b[43mtriangles_normal\u001b[49m\u001b[38;5;241;43m=\u001b[39;49m\u001b[38;5;28;43mself\u001b[39;49m\u001b[38;5;241;43m.\u001b[39;49m\u001b[43mmesh\u001b[49m\u001b[38;5;241;43m.\u001b[39;49m\u001b[43mface_normals\u001b[49m\u001b[43m,\u001b[49m\n\u001b[1;32m     62\u001b[0m \u001b[43m    \u001b[49m\u001b[43m)\u001b[49m\n\u001b[1;32m     63\u001b[0m     \u001b[38;5;28;01mif\u001b[39;00m return_locations:\n\u001b[1;32m     64\u001b[0m         \u001b[38;5;28;01mif\u001b[39;00m \u001b[38;5;28mlen\u001b[39m(index_tri) \u001b[38;5;241m==\u001b[39m \u001b[38;5;241m0\u001b[39m:\n",
      "File \u001b[0;32m~/miniconda3/envs/tangen/lib/python3.11/site-packages/trimesh/ray/ray_triangle.py:221\u001b[0m, in \u001b[0;36mray_triangle_id\u001b[0;34m(triangles, ray_origins, ray_directions, triangles_normal, tree, multiple_hits)\u001b[0m\n\u001b[1;32m    217\u001b[0m     tree \u001b[38;5;241m=\u001b[39m triangles_mod\u001b[38;5;241m.\u001b[39mbounds_tree(triangles)\n\u001b[1;32m    219\u001b[0m \u001b[38;5;66;03m# find the list of likely triangles and which ray they\u001b[39;00m\n\u001b[1;32m    220\u001b[0m \u001b[38;5;66;03m# correspond with, via rtree queries\u001b[39;00m\n\u001b[0;32m--> 221\u001b[0m ray_candidates, ray_id \u001b[38;5;241m=\u001b[39m \u001b[43mray_triangle_candidates\u001b[49m\u001b[43m(\u001b[49m\n\u001b[1;32m    222\u001b[0m \u001b[43m    \u001b[49m\u001b[43mray_origins\u001b[49m\u001b[38;5;241;43m=\u001b[39;49m\u001b[43mray_origins\u001b[49m\u001b[43m,\u001b[49m\u001b[43m \u001b[49m\u001b[43mray_directions\u001b[49m\u001b[38;5;241;43m=\u001b[39;49m\u001b[43mray_directions\u001b[49m\u001b[43m,\u001b[49m\u001b[43m \u001b[49m\u001b[43mtree\u001b[49m\u001b[38;5;241;43m=\u001b[39;49m\u001b[43mtree\u001b[49m\n\u001b[1;32m    223\u001b[0m \u001b[43m\u001b[49m\u001b[43m)\u001b[49m\n\u001b[1;32m    225\u001b[0m \u001b[38;5;66;03m# get subsets which are corresponding rays and triangles\u001b[39;00m\n\u001b[1;32m    226\u001b[0m \u001b[38;5;66;03m# (c,3,3) triangle candidates\u001b[39;00m\n\u001b[1;32m    227\u001b[0m triangle_candidates \u001b[38;5;241m=\u001b[39m triangles[ray_candidates]\n",
      "File \u001b[0;32m~/miniconda3/envs/tangen/lib/python3.11/site-packages/trimesh/ray/ray_triangle.py:334\u001b[0m, in \u001b[0;36mray_triangle_candidates\u001b[0;34m(ray_origins, ray_directions, tree)\u001b[0m\n\u001b[1;32m    332\u001b[0m candidates \u001b[38;5;241m=\u001b[39m []\n\u001b[1;32m    333\u001b[0m \u001b[38;5;28;01mfor\u001b[39;00m i, bounds \u001b[38;5;129;01min\u001b[39;00m \u001b[38;5;28menumerate\u001b[39m(bounding):\n\u001b[0;32m--> 334\u001b[0m     cand \u001b[38;5;241m=\u001b[39m \u001b[38;5;28mlist\u001b[39m(\u001b[43mtree\u001b[49m\u001b[38;5;241;43m.\u001b[39;49m\u001b[43mintersection\u001b[49m\u001b[43m(\u001b[49m\u001b[43mbounds\u001b[49m\u001b[43m)\u001b[49m)\n\u001b[1;32m    335\u001b[0m     candidates\u001b[38;5;241m.\u001b[39mextend(cand)\n\u001b[1;32m    336\u001b[0m     index\u001b[38;5;241m.\u001b[39mextend([i] \u001b[38;5;241m*\u001b[39m \u001b[38;5;28mlen\u001b[39m(cand))\n",
      "File \u001b[0;32m~/miniconda3/envs/tangen/lib/python3.11/site-packages/rtree/index.py:809\u001b[0m, in \u001b[0;36mIndex.intersection\u001b[0;34m(self, coordinates, objects)\u001b[0m\n\u001b[1;32m    806\u001b[0m \u001b[38;5;28;01mif\u001b[39;00m objects:\n\u001b[1;32m    807\u001b[0m     \u001b[38;5;28;01mreturn\u001b[39;00m \u001b[38;5;28mself\u001b[39m\u001b[38;5;241m.\u001b[39m_intersection_obj(coordinates, objects)\n\u001b[0;32m--> 809\u001b[0m p_mins, p_maxs \u001b[38;5;241m=\u001b[39m \u001b[38;5;28;43mself\u001b[39;49m\u001b[38;5;241;43m.\u001b[39;49m\u001b[43mget_coordinate_pointers\u001b[49m\u001b[43m(\u001b[49m\u001b[43mcoordinates\u001b[49m\u001b[43m)\u001b[49m\n\u001b[1;32m    811\u001b[0m p_num_results \u001b[38;5;241m=\u001b[39m ctypes\u001b[38;5;241m.\u001b[39mc_uint64(\u001b[38;5;241m0\u001b[39m)\n\u001b[1;32m    813\u001b[0m it \u001b[38;5;241m=\u001b[39m ctypes\u001b[38;5;241m.\u001b[39mpointer(ctypes\u001b[38;5;241m.\u001b[39mc_int64())\n",
      "File \u001b[0;32m~/miniconda3/envs/tangen/lib/python3.11/site-packages/rtree/index.py:359\u001b[0m, in \u001b[0;36mIndex.get_coordinate_pointers\u001b[0;34m(self, coordinates)\u001b[0m\n\u001b[1;32m    357\u001b[0m \u001b[38;5;28;01mfor\u001b[39;00m i \u001b[38;5;129;01min\u001b[39;00m \u001b[38;5;28mrange\u001b[39m(dimension):\n\u001b[1;32m    358\u001b[0m     \u001b[38;5;28;01mif\u001b[39;00m \u001b[38;5;129;01mnot\u001b[39;00m coordinates[i] \u001b[38;5;241m<\u001b[39m\u001b[38;5;241m=\u001b[39m coordinates[i \u001b[38;5;241m+\u001b[39m dimension]:\n\u001b[0;32m--> 359\u001b[0m         \u001b[38;5;28;01mraise\u001b[39;00m RTreeError(\n\u001b[1;32m    360\u001b[0m             \u001b[38;5;124m\"\u001b[39m\u001b[38;5;124mCoordinates must not have minimums more than maximums\u001b[39m\u001b[38;5;124m\"\u001b[39m\n\u001b[1;32m    361\u001b[0m         )\n\u001b[1;32m    363\u001b[0m p_mins \u001b[38;5;241m=\u001b[39m mins(\u001b[38;5;241m*\u001b[39m[ctypes\u001b[38;5;241m.\u001b[39mc_double(coordinates[i]) \u001b[38;5;28;01mfor\u001b[39;00m i \u001b[38;5;129;01min\u001b[39;00m \u001b[38;5;28mrange\u001b[39m(dimension)])\n\u001b[1;32m    364\u001b[0m p_maxs \u001b[38;5;241m=\u001b[39m maxs(\n\u001b[1;32m    365\u001b[0m     \u001b[38;5;241m*\u001b[39m[ctypes\u001b[38;5;241m.\u001b[39mc_double(coordinates[i \u001b[38;5;241m+\u001b[39m dimension]) \u001b[38;5;28;01mfor\u001b[39;00m i \u001b[38;5;129;01min\u001b[39;00m \u001b[38;5;28mrange\u001b[39m(dimension)]\n\u001b[1;32m    366\u001b[0m )\n",
      "\u001b[0;31mRTreeError\u001b[0m: Coordinates must not have minimums more than maximums"
     ]
    }
   ],
   "source": [
    "import numpy as np\n",
    "import trimesh\n",
    "\n",
    "ray_origins = []\n",
    "ray_directions = []\n",
    "\n",
    "for i in range(201):\n",
    "    for j in range(201):\n",
    "        ray_origins.append([i, j, np.inf])\n",
    "        ray_directions.append([0, 0, -1])\n",
    "\n",
    "mesh = trimesh.load(\"sample_meshes/Sample_Crimp_8.stl\")\n",
    "intersection_mesh = trimesh.ray.ray_triangle.RayMeshIntersector(mesh)\n",
    "\n",
    "intersections = intersection_mesh.intersects_location(np.array(ray_origins), np.array(ray_directions))\n",
    "\n",
    "locations = intersections[0]\n",
    "ray_indices = intersections[1]\n",
    "\n",
    "max = -np.inf\n",
    "max_pts = []\n",
    "for i in range(ray_origins.shape[0]):\n",
    "    ray_index = ray_indices == i\n",
    "    masked_locations = locations[ray_index]\n",
    "    max = -np.inf\n",
    "    max_pt = []\n",
    "    for location in masked_locations:\n",
    "        if (location[2] > max):\n",
    "            max = location[2]\n",
    "            max_pt = location\n",
    "    max_pts.append(max_pt)\n",
    "\n",
    "\n",
    "        "
   ]
  }
 ],
 "metadata": {
  "kernelspec": {
   "display_name": "tangen",
   "language": "python",
   "name": "python3"
  },
  "language_info": {
   "codemirror_mode": {
    "name": "ipython",
    "version": 3
   },
   "file_extension": ".py",
   "mimetype": "text/x-python",
   "name": "python",
   "nbconvert_exporter": "python",
   "pygments_lexer": "ipython3",
   "version": "3.11.10"
  }
 },
 "nbformat": 4,
 "nbformat_minor": 2
}
