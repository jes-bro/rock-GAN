{
 "cells": [
  {
   "cell_type": "code",
   "execution_count": null,
   "metadata": {},
   "outputs": [],
   "source": [
    "import numpy as np\n",
    "import trimesh\n",
    "\n",
    "def project_mesh_to_heightmap(mesh, resolution, x_range, y_range):\n",
    "    # Create the heightmap (2.5D array) initialized to NaN (no data)\n",
    "    heightmap = np.full(resolution, np.nan)\n",
    "    \n",
    "    # Get mesh vertices and faces\n",
    "    vertices = mesh.vertices\n",
    "    faces = mesh.faces\n",
    "    \n",
    "    # Define the grid\n",
    "    x_min, x_max = x_range\n",
    "    y_min, y_max = y_range\n",
    "    x_step = (x_max - x_min) / resolution[0]\n",
    "    y_step = (y_max - y_min) / resolution[1]\n",
    "    \n",
    "    # Iterate over each pixel in the heightmap\n",
    "    for i in range(resolution[0]):\n",
    "        for j in range(resolution[1]):\n",
    "            # Calculate the world coordinates of the pixel center\n",
    "            x_coord = x_min + i * x_step\n",
    "            y_coord = y_min + j * y_step\n",
    "            ray_origin = np.array([x_coord, y_coord, np.inf])  # Ray originates above the heightmap\n",
    "            ray_direction = np.array([0, 0, -1])  # Ray is cast downward (negative Z direction)\n",
    "            \n",
    "            # Perform ray-casting to find the intersection with the mesh\n",
    "            ray = trimesh.ray.Ray(origins=[ray_origin], directions=[ray_direction])\n",
    "            intersections = mesh.ray.intersects_first(ray_origins=ray.origins, ray_directions=ray.directions)\n",
    "            \n",
    "            if intersections[0]:  # If there's an intersection\n",
    "                intersection_point = intersections[1]  # Get the Z-coordinate of the intersection\n",
    "                heightmap[i, j] = intersection_point  # Update the heightmap with the height value\n",
    "\n",
    "    return heightmap\n",
    "\n",
    "# Load your mesh\n",
    "mesh = trimesh.load_mesh('path_to_your_mesh.stl')\n",
    "\n",
    "# Define the resolution and range for the height map\n",
    "resolution = (500, 500)  # 500x500 grid\n",
    "x_range = (mesh.bounds[0][0], mesh.bounds[1][0])  # X-range based on mesh bounds\n",
    "y_range = (mesh.bounds[0][1], mesh.bounds[1][1])  # Y-range based on mesh bounds\n",
    "\n",
    "# Generate the heightmap\n",
    "heightmap = project_mesh_to_heightmap(mesh, resolution, x_range, y_range)\n",
    "\n",
    "# Optionally: Display or save the heightmap\n",
    "import matplotlib.pyplot as plt\n",
    "plt.imshow(heightmap, cmap='terrain', origin='lower')\n",
    "plt.colorbar()\n",
    "plt.show()"
   ]
  }
 ],
 "metadata": {
  "kernelspec": {
   "display_name": "tangen",
   "language": "python",
   "name": "python3"
  },
  "language_info": {
   "name": "python",
   "version": "3.11.10"
  }
 },
 "nbformat": 4,
 "nbformat_minor": 2
}
