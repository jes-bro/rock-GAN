{
 "cells": [
  {
   "cell_type": "markdown",
   "metadata": {},
   "source": [
    "This is a notebook to test and debug the stl to voxel processing pipeline. Will have an attempt to revert at the end"
   ]
  },
  {
   "cell_type": "code",
   "execution_count": 1,
   "metadata": {},
   "outputs": [
    {
     "name": "stdout",
     "output_type": "stream",
     "text": [
      "running\n",
      "Jupyter environment detected. Enabling Open3D WebVisualizer.\n",
      "[Open3D INFO] WebRTC GUI backend enabled.\n",
      "[Open3D INFO] WebRTCWindowSystem: HTTP handshake server disabled.\n",
      "Computing normal and rendering it.\n",
      "11850\n"
     ]
    }
   ],
   "source": [
    "print(\"running\")\n",
    "import open3d as o3d\n",
    "import numpy as np\n",
    "\n",
    "# Import the mesh \n",
    "test_mesh = o3d.io.read_triangle_mesh(\"../sample_meshes/Sample_Crimp_8.stl\")\n",
    "\n",
    "# THE BELOW COMMENTED OUT STUFF SEEMED TO CRASH MY KERNEL LOOK INTO THIS\n",
    "# Here is also some normalization code\n",
    "# fit to unit cube\n",
    "\n",
    "# centroid = test_mesh.get_center()\n",
    "# print(\"got_center\")\n",
    "# test_mesh.translate(-centroid)\n",
    "# print(\"Translated Center\")\n",
    "\n",
    "# bounding_box = test_mesh.get_axis_aligned_bounding_box()\n",
    "# print(\"got bounding box\")\n",
    "# mesh_scale_factor = 1/max(bounding_box.get_extent())\n",
    "# print(\"got mesh scale factor\")\n",
    "\n",
    "# test_mesh.scale(mesh_scale_factor,)\n",
    "# print(\"scaled mesh\")\n",
    "\n",
    "# Visualize the mesh to peek at it.\n",
    "# Compute normals isn't strictly necessary, but it does make things look nicer\n",
    "print(\"Computing normal and rendering it.\")\n",
    "test_mesh.compute_vertex_normals()\n",
    "\n",
    "original_triangle_count = len(test_mesh.triangles)\n",
    "print(original_triangle_count)\n",
    "\n",
    "# Simplify mesh using quadric decimation\n",
    "target_triangle_count = 1000  # Desired number of triangles\n",
    "simplified_mesh = test_mesh.simplify_quadric_decimation(target_number_of_triangles=target_triangle_count)\n",
    "o3d.visualization.draw_geometries([test_mesh])\n",
    "o3d.visualization.draw_geometries([simplified_mesh])\n",
    "\n",
    "\n",
    "# Going to attempt to voxelize the mesh now and visualize it\n",
    "test_voxel = o3d.geometry.VoxelGrid.create_from_triangle_mesh(test_mesh,\n",
    "                                                              voxel_size=0.05)\n",
    "simplified_voxel = o3d.geometry.VoxelGrid.create_from_triangle_mesh(simplified_mesh,\n",
    "                                                              voxel_size=0.05)\n",
    "\n",
    "# o3d.visualization.draw_geometries([simplified_voxel])"
   ]
  },
  {
   "cell_type": "code",
   "execution_count": null,
   "metadata": {},
   "outputs": [
    {
     "ename": "",
     "evalue": "",
     "output_type": "error",
     "traceback": [
      "\u001b[1;31mThe Kernel crashed while executing code in the current cell or a previous cell. \n",
      "\u001b[1;31mPlease review the code in the cell(s) to identify a possible cause of the failure. \n",
      "\u001b[1;31mClick <a href='https://aka.ms/vscodeJupyterKernelCrash'>here</a> for more info. \n",
      "\u001b[1;31mView Jupyter <a href='command:jupyter.viewOutput'>log</a> for further details."
     ]
    }
   ],
   "source": [
    "# Trying to pointcloud tech\n",
    "# Sample points from the mesh\n",
    "point_cloud = test_mesh.sample_points_uniformly(number_of_points=100)\n",
    "\n",
    "# Convert back to mesh using Poisson reconstruction (optional)\n",
    "mesh_reconstructed = o3d.geometry.TriangleMesh.create_from_point_cloud_poisson(point_cloud, depth=9)[0]\n",
    "mesh_reconstructed.compute_vertex_normals()\n",
    "\n",
    "# Visualize\n",
    "# o3d.visualization.draw_geometries([point_cloud])\n",
    "o3d.visualization.draw_geometries([mesh_reconstructed])\n"
   ]
  },
  {
   "cell_type": "code",
   "execution_count": null,
   "metadata": {},
   "outputs": [
    {
     "ename": "",
     "evalue": "",
     "output_type": "error",
     "traceback": [
      "\u001b[1;31mThe Kernel crashed while executing code in the current cell or a previous cell. \n",
      "\u001b[1;31mPlease review the code in the cell(s) to identify a possible cause of the failure. \n",
      "\u001b[1;31mClick <a href='https://aka.ms/vscodeJupyterKernelCrash'>here</a> for more info. \n",
      "\u001b[1;31mView Jupyter <a href='command:jupyter.viewOutput'>log</a> for further details."
     ]
    }
   ],
   "source": [
    "# Here is also some normalization code\n",
    "# fit to unit cube\n",
    "\n",
    "centroid = mesh_reconstructed.get_center()\n",
    "print(centroid)\n",
    "# centroid = -1*centroid\n",
    "# print(centroid)\n",
    "# mesh_reconstructed.translate((centroid))\n",
    "# mesh_reconstructed.translate(-centroid)\n",
    "\n",
    "bounding_box = mesh_reconstructed.get_axis_aligned_bounding_box()\n",
    "mesh_scale_factor = 1/max(bounding_box.get_extent())\n",
    "\n",
    "mesh_reconstructed.scale(mesh_scale_factor, center=centroid)\n",
    "\n",
    "recon_voxel = o3d.geometry.VoxelGrid.create_from_triangle_mesh(mesh_reconstructed,\n",
    "                                                              voxel_size=1)\n",
    "\n",
    "o3d.visualization.draw_geometries([recon_voxel])"
   ]
  }
 ],
 "metadata": {
  "kernelspec": {
   "display_name": "tangen",
   "language": "python",
   "name": "python3"
  },
  "language_info": {
   "codemirror_mode": {
    "name": "ipython",
    "version": 3
   },
   "file_extension": ".py",
   "mimetype": "text/x-python",
   "name": "python",
   "nbconvert_exporter": "python",
   "pygments_lexer": "ipython3",
   "version": "3.11.10"
  }
 },
 "nbformat": 4,
 "nbformat_minor": 2
}
